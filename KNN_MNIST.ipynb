{
 "cells": [
  {
   "cell_type": "code",
   "execution_count": 5,
   "metadata": {},
   "outputs": [],
   "source": [
    "import pandas as pd\n",
    "import matplotlib.pyplot as plt\n",
    "import numpy as np\n",
    "%matplotlib inline\n",
    "from sklearn.neighbors import KNeighborsClassifier\n",
    "from sklearn.model_selection import train_test_split"
   ]
  },
  {
   "cell_type": "code",
   "execution_count": 6,
   "metadata": {},
   "outputs": [],
   "source": [
    "df_train=pd.read_csv('mnist_train.csv')\n",
    "df_test=pd.read_csv('mnist_test.csv')\n",
    "df_train=df_train.to_numpy()\n",
    "df_test=df_test.to_numpy()\n",
    "X=df_train[:,1:]\n",
    "y=df_train[:,0]\n",
    "X=X/255\n",
    "X_train, X_val, y_train, y_val=train_test_split(X,y, test_size=0.2)\n",
    "X_test=df_test[:,1:]\n",
    "y_test=df_test[:,0]\n"
   ]
  },
  {
   "cell_type": "code",
   "execution_count": 7,
   "metadata": {},
   "outputs": [
    {
     "data": {
      "text/plain": [
       "[<matplotlib.lines.Line2D at 0xbb7bc48>]"
      ]
     },
     "execution_count": 7,
     "metadata": {},
     "output_type": "execute_result"
    },
    {
     "data": {
      "image/png": "[encoded data removed]",
      "text/plain": [
       "<Figure size 432x288 with 1 Axes>"
      ]
     },
     "metadata": {
      "needs_background": "light"
     },
     "output_type": "display_data"
    }
   ],
   "source": [
    "train_scores = []\n",
    "Validation_scores = []\n",
    "for k in range(2, 7):\n",
    "    clf = KNeighborsClassifier(n_neighbors=k,n_jobs=-1)\n",
    "    clf.fit(X_train, y_train)\n",
    "    \n",
    "    train_scores.append(clf.score(X_train, y_train))\n",
    "    Validation_scores.append(clf.score(X_val, y_val))\n",
    "\n",
    "plt.plot(np.arange(2, 7, 1), np.array(train_scores), 'b-')\n",
    "plt.plot(np.arange(2, 7, 1), np.array(Validation_scores), 'r-')"
   ]
  },
  {
   "cell_type": "code",
   "execution_count": 8,
   "metadata": {},
   "outputs": [
    {
     "data": {
      "text/plain": [
       "KNeighborsClassifier(algorithm='auto', leaf_size=30, metric='minkowski',\n",
       "                     metric_params=None, n_jobs=-1, n_neighbors=3, p=2,\n",
       "                     weights='uniform')"
      ]
     },
     "execution_count": 8,
     "metadata": {},
     "output_type": "execute_result"
    }
   ],
   "source": [
    "clf = KNeighborsClassifier(n_neighbors=3,n_jobs=-1)\n",
    "clf.fit(X_train, y_train)"
   ]
  },
  {
   "cell_type": "code",
   "execution_count": 9,
   "metadata": {},
   "outputs": [
    {
     "name": "stdout",
     "output_type": "stream",
     "text": [
      "train score: 0.9856458333333333\n",
      "validation score: 0.9718333333333333\n",
      "test score: 0.6812\n"
     ]
    }
   ],
   "source": [
    "print('train score:', clf.score(X_train, y_train))\n",
    "print('validation score:', clf.score(X_val, y_val))\n",
    "print('test score:', clf.score(X_test, y_test))"
   ]
  },
  {
   "cell_type": "code",
   "execution_count": null,
   "metadata": {},
   "outputs": [],
   "source": []
  }
 ],
 "metadata": {
  "kernelspec": {
   "display_name": "Python 3",
   "language": "python",
   "name": "python3"
  },
  "language_info": {
   "codemirror_mode": {
    "name": "ipython",
    "version": 3
   },
   "file_extension": ".py",
   "mimetype": "text/x-python",
   "name": "python",
   "nbconvert_exporter": "python",
   "pygments_lexer": "ipython3",
   "version": "3.7.6"
  }
 },
 "nbformat": 4,
 "nbformat_minor": 4
}
