{
 "cells": [
  {
   "cell_type": "code",
   "execution_count": 11,
   "metadata": {},
   "outputs": [],
   "source": [
    "import pandas as pd\n",
    "import matplotlib.pyplot as plt\n",
    "import numpy as np\n",
    "%matplotlib inline\n",
    "from sklearn.tree import DecisionTreeClassifier\n",
    "from sklearn.model_selection import train_test_split\n",
    "from tensorflow.keras.utils import to_categorical\n",
    "from sklearn.preprocessing import LabelEncoder"
   ]
  },
  {
   "cell_type": "code",
   "execution_count": 12,
   "metadata": {},
   "outputs": [],
   "source": [
    "df_train=pd.read_csv('mnist_train.csv')\n",
    "df_test=pd.read_csv('mnist_test.csv')\n",
    "df_train=df_train.to_numpy()\n",
    "df_test=df_test.to_numpy()\n",
    "X=df_train[:,1:]\n",
    "y=df_train[:,0]\n",
    "X=X/255\n",
    "X_train, X_val, y_train, y_val=train_test_split(X,y, test_size=0.2)\n",
    "le=LabelEncoder()\n",
    "y_train=le.fit_transform(y_train)\n",
    "y_val=le.fit_transform(y_val)\n",
    "y_train=to_categorical(y_train,10)\n",
    "y_val=to_categorical(y_val,10)"
   ]
  },
  {
   "cell_type": "code",
   "execution_count": 13,
   "metadata": {},
   "outputs": [
    {
     "data": {
      "text/plain": [
       "[<matplotlib.lines.Line2D at 0x43d34988>]"
      ]
     },
     "execution_count": 13,
     "metadata": {},
     "output_type": "execute_result"
    },
    {
     "data": {
      "image/png": "[encoded data removed]",
      "text/plain": [
       "<Figure size 432x288 with 1 Axes>"
      ]
     },
     "metadata": {
      "needs_background": "light"
     },
     "output_type": "display_data"
    }
   ],
   "source": [
    "train_scores = []\n",
    "Validation_scores = []\n",
    "for d in range(1, 25):\n",
    "    clf = DecisionTreeClassifier(max_depth=d)\n",
    "    clf.fit(X_train, y_train)\n",
    "    \n",
    "    train_scores.append(clf.score(X_train, y_train))\n",
    "    Validation_scores.append(clf.score(X_val, y_val))\n",
    "\n",
    "plt.plot(np.arange(1, 25, 1), np.array(train_scores), 'b-')\n",
    "plt.plot(np.arange(1, 25, 1), np.array(Validation_scores), 'r-')"
   ]
  },
  {
   "cell_type": "code",
   "execution_count": 14,
   "metadata": {},
   "outputs": [],
   "source": [
    "X_test=df_test[:,1:]\n",
    "y_test=df_test[:,0]\n",
    "X_test=X_test/255  \n",
    "y_test=le.fit_transform(y_test)\n",
    "y_test=to_categorical(y_test,10)"
   ]
  },
  {
   "cell_type": "code",
   "execution_count": 15,
   "metadata": {},
   "outputs": [
    {
     "name": "stdout",
     "output_type": "stream",
     "text": [
      "max depth :  14\n",
      "train accuracy :  0.9759791666666666\n",
      "Validation accuracy :  0.8661666666666666\n",
      "test accuracy :  0.8744\n"
     ]
    }
   ],
   "source": [
    "clf = DecisionTreeClassifier(max_depth=14)\n",
    "clf.fit(X_train, y_train)\n",
    "print('max depth : ', clf.tree_.max_depth)\n",
    "print('train accuracy : ', clf.score(X_train, y_train))\n",
    "print('Validation accuracy : ', clf.score(X_val, y_val))\n",
    "print('test accuracy : ', clf.score(X_test, y_test))"
   ]
  }
 ],
 "metadata": {
  "kernelspec": {
   "display_name": "Python 3",
   "language": "python",
   "name": "python3"
  },
  "language_info": {
   "codemirror_mode": {
    "name": "ipython",
    "version": 3
   },
   "file_extension": ".py",
   "mimetype": "text/x-python",
   "name": "python",
   "nbconvert_exporter": "python",
   "pygments_lexer": "ipython3",
   "version": "3.7.6"
  }
 },
 "nbformat": 4,
 "nbformat_minor": 4
}
